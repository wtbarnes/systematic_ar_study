{
 "cells": [
  {
   "cell_type": "markdown",
   "metadata": {},
   "source": [
    "# NOAA 1158: Cooling Model\n",
    "Simulation of loops in AR NOAA 1158 in which the loops are essentially only allowed to cool, i.e. they are heated by a single pulse at $t=0$ s and then the simulation is run for a sufficiently long enough time so that even the longest loops can cool and drain back to their equilibrium state.\n",
    "\n",
    "We will use the base field model that we've already built for NOAA 1158, AR #2 in Warren et al. (2012)"
   ]
  },
  {
   "cell_type": "code",
   "execution_count": null,
   "metadata": {},
   "outputs": [],
   "source": [
    "import os\n",
    "import glob\n",
    "import warnings\n",
    "import multiprocessing\n",
    "import subprocess\n",
    "warnings.filterwarnings('ignore')\n",
    "\n",
    "import numpy as np\n",
    "from sunpy.map import Map\n",
    "import yt\n",
    "import astropy.units as u\n",
    "import matplotlib.pyplot as plt\n",
    "import matplotlib.colors\n",
    "import seaborn.apionly as sns\n",
    "import dask.distributed\n",
    "\n",
    "import synthesizAR\n",
    "from synthesizAR.model_ext import EbtelInterface,UniformHeating,calculate_free_energy\n",
    "from synthesizAR.instruments import InstrumentSDOAIA\n",
    "\n",
    "%matplotlib inline"
   ]
  },
  {
   "cell_type": "markdown",
   "metadata": {},
   "source": [
    "First, start up a dask scheduler and worker on the localhost."
   ]
  },
  {
   "cell_type": "code",
   "execution_count": null,
   "metadata": {},
   "outputs": [],
   "source": [
    "client = dask.distributed.Client()\n",
    "client"
   ]
  },
  {
   "cell_type": "markdown",
   "metadata": {},
   "source": [
    "## Build Field"
   ]
  },
  {
   "cell_type": "code",
   "execution_count": null,
   "metadata": {
    "collapsed": true
   },
   "outputs": [],
   "source": [
    "field = synthesizAR.Skeleton.restore('/data/datadrive2/systematic_ar_study/base_noaa1158')"
   ]
  },
  {
   "cell_type": "markdown",
   "metadata": {},
   "source": [
    "## Heating Model and Loop Configuration"
   ]
  },
  {
   "cell_type": "markdown",
   "metadata": {},
   "source": [
    "For the loop simulations, we'll use a single pulse of duration 200 s at $t=0$ s with total energy of \n",
    "\n",
    "$$\n",
    "E_s = \\frac{(\\epsilon B_s)^2}{8\\pi}\n",
    "$$\n",
    "\n",
    "where $B_s$ is the average field strength along a strand $s$.\n",
    "\n",
    "Setup all of our loop models using this single-event/cooling model."
   ]
  },
  {
   "cell_type": "code",
   "execution_count": null,
   "metadata": {
    "collapsed": true
   },
   "outputs": [],
   "source": [
    "heating_options = {\n",
    "    'duration':200,\n",
    "    'average_waiting_time':8800,\n",
    "    'duration_rise':100,\n",
    "    'duration_decay':100,\n",
    "    'stress_level':0.1\n",
    "}\n",
    "heating_model = UniformHeating(heating_options)"
   ]
  },
  {
   "cell_type": "code",
   "execution_count": null,
   "metadata": {
    "collapsed": true
   },
   "outputs": [],
   "source": [
    "ih = synthesizAR.util.InputHandler('/home/wtb2/Documents/codes/ebtelPlusPlus/config/ebtel.example.cfg.xml')\n",
    "base_config = ih.lookup_vars()\n",
    "base_config['c1_cond0'] = 6.0\n",
    "base_config['total_time'] = 1e4\n",
    "base_config['use_adaptive_solver'] = True\n",
    "base_config['use_flux_limiting'] = True\n",
    "base_config['calculate_dem'] = False\n",
    "base_config['heating']['partition'] = 1.0\n",
    "base_config['heating']['background'] = 1e-6\n",
    "base_config['force_single_fluid'] = False\n",
    "base_config['tau_max'] = 200.0"
   ]
  },
  {
   "cell_type": "code",
   "execution_count": null,
   "metadata": {
    "collapsed": true
   },
   "outputs": [],
   "source": [
    "ebtel_interface = EbtelInterface(base_config,heating_model,\n",
    "                                 '/data/datadrive2/systematic_ar_study/noaa1158_cooling/hydro_config/',\n",
    "                                 '/data/datadrive2/systematic_ar_study/noaa1158_cooling/hydro_results/')"
   ]
  },
  {
   "cell_type": "code",
   "execution_count": null,
   "metadata": {
    "collapsed": true
   },
   "outputs": [],
   "source": [
    "field.configure_loop_simulations(ebtel_interface)"
   ]
  },
  {
   "cell_type": "markdown",
   "metadata": {},
   "source": [
    "Now run all of our models and load them back into the field."
   ]
  },
  {
   "cell_type": "code",
   "execution_count": null,
   "metadata": {
    "collapsed": true
   },
   "outputs": [],
   "source": [
    "def ebtel_runner(loop):\n",
    "    subprocess.call([os.path.join('/home/wtb2/Documents/codes/','ebtelPlusPlus/bin/ebtel++.run'),\n",
    "                     '-c',loop.hydro_configuration['config_filename']])"
   ]
  },
  {
   "cell_type": "code",
   "execution_count": null,
   "metadata": {
    "collapsed": true
   },
   "outputs": [],
   "source": [
    "pool = multiprocessing.Pool()"
   ]
  },
  {
   "cell_type": "code",
   "execution_count": null,
   "metadata": {
    "collapsed": true
   },
   "outputs": [],
   "source": [
    "runs = pool.map_async(ebtel_runner,field.loops)\n",
    "runs.wait()"
   ]
  },
  {
   "cell_type": "code",
   "execution_count": null,
   "metadata": {
    "collapsed": true
   },
   "outputs": [],
   "source": [
    "field.load_loop_simulations(ebtel_interface,\n",
    "                            savefile='/data/datadrive2/systematic_ar_study/noaa1158_cooling/loop_parameters.h5')"
   ]
  },
  {
   "cell_type": "markdown",
   "metadata": {},
   "source": [
    "And save the field."
   ]
  },
  {
   "cell_type": "code",
   "execution_count": null,
   "metadata": {
    "collapsed": true
   },
   "outputs": [],
   "source": [
    "field.save('/data/datadrive2/systematic_ar_study/noaa1158_cooling/field_checkpoint')"
   ]
  },
  {
   "cell_type": "markdown",
   "metadata": {},
   "source": [
    "Peek at the hydrodynamic simulation results."
   ]
  },
  {
   "cell_type": "code",
   "execution_count": null,
   "metadata": {
    "collapsed": true
   },
   "outputs": [],
   "source": [
    "fig,axes = plt.subplots(2,1,figsize=(20,10),sharex=True)\n",
    "plt.subplots_adjust(hspace=0.)\n",
    "for loop in field.loops[::10]:\n",
    "    axes[0].plot(loop.time,loop.electron_temperature[:,0].to(u.MK),color=sns.color_palette('deep')[0],alpha=0.01)\n",
    "    axes[0].plot(loop.time,loop.ion_temperature[:,0].to(u.MK),color=sns.color_palette('deep')[2],alpha=0.01)\n",
    "    axes[1].plot(loop.time,loop.density[:,0]/1e9,color=sns.color_palette('deep')[0],alpha=0.05)\n",
    "axes[0].set_xlim([0,base_config['total_time']])\n",
    "axes[0].set_ylabel(r'$T$ [MK]')\n",
    "axes[1].set_ylabel(r'$n$ [10$^9$ cm$^{-3}$]')\n",
    "axes[1].set_xlabel(r'$t$ [s]')"
   ]
  },
  {
   "cell_type": "markdown",
   "metadata": {},
   "source": [
    "Restore the field here if necessary."
   ]
  },
  {
   "cell_type": "code",
   "execution_count": null,
   "metadata": {},
   "outputs": [],
   "source": [
    "field = synthesizAR.Skeleton.restore('/data/datadrive2/systematic_ar_study/noaa1158_cooling/field_checkpoint/')"
   ]
  },
  {
   "cell_type": "markdown",
   "metadata": {
    "collapsed": true
   },
   "source": [
    "## Instrument Intensity Synthesis"
   ]
  },
  {
   "cell_type": "code",
   "execution_count": null,
   "metadata": {
    "collapsed": true
   },
   "outputs": [],
   "source": [
    "aia = InstrumentSDOAIA([0,5000]*u.s)"
   ]
  },
  {
   "cell_type": "code",
   "execution_count": null,
   "metadata": {
    "collapsed": true
   },
   "outputs": [],
   "source": [
    "observer = synthesizAR.Observer(field,[aia])"
   ]
  },
  {
   "cell_type": "code",
   "execution_count": null,
   "metadata": {
    "collapsed": true
   },
   "outputs": [],
   "source": [
    "observer.build_detector_files('/data/datadrive2/systematic_ar_study/noaa1158_cooling/',\n",
    "                              ds=field._convert_angle_to_length(1.2*u.arcsec))"
   ]
  },
  {
   "cell_type": "code",
   "execution_count": null,
   "metadata": {
    "collapsed": true
   },
   "outputs": [],
   "source": [
    "flatten_dag = observer.flatten_detector_counts()"
   ]
  },
  {
   "cell_type": "code",
   "execution_count": null,
   "metadata": {
    "collapsed": true
   },
   "outputs": [],
   "source": [
    "flatten_dag['SDO_AIA'].compute()"
   ]
  },
  {
   "cell_type": "code",
   "execution_count": null,
   "metadata": {
    "collapsed": true
   },
   "outputs": [],
   "source": [
    "status = client.compute(flatten_dag['SDO_AIA'])"
   ]
  },
  {
   "cell_type": "code",
   "execution_count": null,
   "metadata": {
    "collapsed": true
   },
   "outputs": [],
   "source": [
    "status.status"
   ]
  },
  {
   "cell_type": "markdown",
   "metadata": {},
   "source": [
    "## Property Evaluation Test"
   ]
  },
  {
   "cell_type": "code",
   "execution_count": null,
   "metadata": {
    "collapsed": true
   },
   "outputs": [],
   "source": [
    "test = [('/data/datadrive2/systematic_ar_study/noaa1158_cooling/tmp_parallel_files/SDO_AIA/94/foofoo.npy','bar') for _ in range(100000)]"
   ]
  },
  {
   "cell_type": "code",
   "execution_count": null,
   "metadata": {
    "collapsed": true
   },
   "outputs": [],
   "source": [
    "@dask.delayed\n",
    "def mean_loop_etemperature(electron_temperature):\n",
    "    return electron_temperature.value.mean()\n",
    "@dask.delayed\n",
    "def mean_of_means(means):\n",
    "    return np.array(means).mean()"
   ]
  },
  {
   "cell_type": "code",
   "execution_count": null,
   "metadata": {
    "collapsed": true
   },
   "outputs": [],
   "source": [
    "mean_list = [mean_loop_etemperature(make_property_dask_lazy(loop,'electron_temperature')) for loop in field.loops]\n",
    "all_loop_mean = mean_of_means(mean_list)"
   ]
  },
  {
   "cell_type": "code",
   "execution_count": null,
   "metadata": {
    "collapsed": true
   },
   "outputs": [],
   "source": [
    "all_loop_mean.compute()"
   ]
  },
  {
   "cell_type": "code",
   "execution_count": null,
   "metadata": {
    "collapsed": true
   },
   "outputs": [],
   "source": [
    "class Foo(object):\n",
    "    def __init__(self,n):\n",
    "        self.n = n\n",
    "    @property\n",
    "    def rand_property(self):\n",
    "        print('Evaluating property')\n",
    "        return np.random.rand(self.n)\n",
    "\n",
    "    def rand_method(self):\n",
    "        print('Evaluating Method')\n",
    "        return np.random.rand(self.n)"
   ]
  },
  {
   "cell_type": "code",
   "execution_count": null,
   "metadata": {
    "collapsed": true
   },
   "outputs": [],
   "source": [
    "def test(f):\n",
    "    return f.rand_property + 1"
   ]
  },
  {
   "cell_type": "code",
   "execution_count": null,
   "metadata": {
    "collapsed": true
   },
   "outputs": [],
   "source": [
    "foo = Foo(1000)\n",
    "t = dask.delayed(test)(foo)"
   ]
  },
  {
   "cell_type": "code",
   "execution_count": null,
   "metadata": {
    "collapsed": true
   },
   "outputs": [],
   "source": [
    "t.compute()"
   ]
  },
  {
   "cell_type": "code",
   "execution_count": null,
   "metadata": {
    "collapsed": true
   },
   "outputs": [],
   "source": [
    "@dask.delayed\n",
    "def compute_mean(array):\n",
    "    return array.mean()\n",
    "@dask.delayed\n",
    "def mean_of_means(array_means):\n",
    "    return np.array(array_means).mean()"
   ]
  },
  {
   "cell_type": "code",
   "execution_count": null,
   "metadata": {
    "collapsed": true
   },
   "outputs": [],
   "source": [
    "array_means = []\n",
    "for _ in range(5):\n",
    "    f = Foo(np.random.randint(10,10000))\n",
    "    array_means.append(compute_mean(dask.delayed(f.rand_property)))\n",
    "mean = mean_of_means(array_means)"
   ]
  },
  {
   "cell_type": "code",
   "execution_count": null,
   "metadata": {
    "collapsed": true
   },
   "outputs": [],
   "source": [
    "mean.compute()"
   ]
  },
  {
   "cell_type": "code",
   "execution_count": null,
   "metadata": {
    "collapsed": true
   },
   "outputs": [],
   "source": [
    "foo = Foo(1000)"
   ]
  },
  {
   "cell_type": "code",
   "execution_count": null,
   "metadata": {
    "collapsed": true
   },
   "outputs": [],
   "source": [
    "def get_dict_attr(obj, attr):\n",
    "    for obj in [obj] + obj.__class__.mro():\n",
    "        if attr in obj.__dict__:\n",
    "            return obj.__dict__[attr]\n",
    "    raise AttributeError"
   ]
  },
  {
   "cell_type": "code",
   "execution_count": null,
   "metadata": {
    "collapsed": true
   },
   "outputs": [],
   "source": [
    "def make_property_dask_lazy(instance,attr):\n",
    "    for obj in [instance] + instance.__class__.mro():\n",
    "        if attr in obj.__dict__:\n",
    "            prop = obj.__dict__[attr]\n",
    "            return dask.delayed(prop.fget)(instance)\n",
    "    raise AttributeError"
   ]
  },
  {
   "cell_type": "code",
   "execution_count": null,
   "metadata": {
    "collapsed": true
   },
   "outputs": [],
   "source": [
    "test = get_dict_attr(foo,'rand_property')"
   ]
  },
  {
   "cell_type": "code",
   "execution_count": null,
   "metadata": {
    "collapsed": true
   },
   "outputs": [],
   "source": [
    "dtest = dask.delayed(test.fget)(foo)"
   ]
  },
  {
   "cell_type": "code",
   "execution_count": null,
   "metadata": {
    "collapsed": true
   },
   "outputs": [],
   "source": [
    "dtest.compute()"
   ]
  },
  {
   "cell_type": "code",
   "execution_count": null,
   "metadata": {
    "collapsed": true
   },
   "outputs": [],
   "source": [
    "test_loop = field.loops[0]"
   ]
  },
  {
   "cell_type": "code",
   "execution_count": null,
   "metadata": {
    "collapsed": true
   },
   "outputs": [],
   "source": [
    "electron_temperature = make_property_dask_lazy(field.loops[0],'electron_temperature')"
   ]
  },
  {
   "cell_type": "code",
   "execution_count": null,
   "metadata": {
    "collapsed": true
   },
   "outputs": [],
   "source": [
    "electron_temperature.compute()"
   ]
  },
  {
   "cell_type": "code",
   "execution_count": null,
   "metadata": {
    "collapsed": true
   },
   "outputs": [],
   "source": [
    "test_loop.electron_temperature.__"
   ]
  },
  {
   "cell_type": "code",
   "execution_count": null,
   "metadata": {
    "collapsed": true
   },
   "outputs": [],
   "source": []
  }
 ],
 "metadata": {
  "kernelspec": {
   "display_name": "Python [conda env:systematic-ar-study]",
   "language": "python",
   "name": "conda-env-systematic-ar-study-py"
  },
  "language_info": {
   "codemirror_mode": {
    "name": "ipython",
    "version": 3
   },
   "file_extension": ".py",
   "mimetype": "text/x-python",
   "name": "python",
   "nbconvert_exporter": "python",
   "pygments_lexer": "ipython3",
   "version": "3.5.3"
  }
 },
 "nbformat": 4,
 "nbformat_minor": 2
}
