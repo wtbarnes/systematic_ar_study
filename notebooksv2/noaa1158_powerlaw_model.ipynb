{
 "cells": [
  {
   "cell_type": "markdown",
   "metadata": {},
   "source": [
    "# NOAA 1158: Power-law Heating Model\n",
    "Setup a heating model whose frequency is determined entirely by selections from a power-law selection rather than by a prescribed frequency or ratio of cooling times."
   ]
  },
  {
   "cell_type": "code",
   "execution_count": 193,
   "metadata": {
    "collapsed": true
   },
   "outputs": [],
   "source": [
    "import os\n",
    "import logging\n",
    "import warnings\n",
    "import multiprocessing\n",
    "import subprocess\n",
    "import random\n",
    "warnings.filterwarnings('ignore')\n",
    "\n",
    "import numpy as np\n",
    "from sunpy.map import Map,GenericMap\n",
    "import astropy.units as u\n",
    "import astropy.constants as const\n",
    "import matplotlib.pyplot as plt\n",
    "import matplotlib\n",
    "import dask.distributed\n",
    "\n",
    "import synthesizAR\n",
    "from synthesizAR.model_ext import EbtelInterface\n",
    "from synthesizAR.instruments import InstrumentSDOAIA\n",
    "\n",
    "%matplotlib inline"
   ]
  },
  {
   "cell_type": "code",
   "execution_count": null,
   "metadata": {
    "collapsed": true
   },
   "outputs": [],
   "source": [
    "client = dask.distributed.Client()\n",
    "client"
   ]
  },
  {
   "cell_type": "markdown",
   "metadata": {},
   "source": [
    "## Power-law Heating Model"
   ]
  },
  {
   "cell_type": "code",
   "execution_count": 3,
   "metadata": {
    "collapsed": true
   },
   "outputs": [],
   "source": [
    "class NewPowerLawHeatingModel(object):\n",
    "    def __init__(self,heating_options):\n",
    "        self.heating_options = heating_options\n",
    "        self.logger = logging.getLogger(name=type(self).__name__)\n",
    "        \n",
    "    def calculate_event_properties(self,loop):\n",
    "        energies = self.event_energies(loop)\n",
    "        rates = energies/(self.heating_options['duration'] - 0.5*(self.heating_options['duration_rise']\n",
    "                                                                  +self.heating_options['duration_decay']))\n",
    "        delays = self.base_config['total_time']*energies/self.strand_energy(loop)\n",
    "        self.number_events = rates.shape[0]\n",
    "        # randomly distribute delays over an interval that depends on the number of events\n",
    "        delays = np.random.uniform(1.0 - 1.0/self.number_events,1.0)*delays\n",
    "        running_total = 0.0\n",
    "        rise_start = np.empty(rates.shape)\n",
    "        for i in range(self.number_events):\n",
    "            running_total += delays[i]\n",
    "            rise_start[i] = running_total\n",
    "        \n",
    "        rise_end = rise_start+self.heating_options['duration_rise']\n",
    "        decay_start = rise_end+(self.heating_options['duration']-self.heating_options['duration_rise']\n",
    "                                -self.heating_options['duration_decay'])\n",
    "        return {'magnitude':rates,'rise_start':rise_start,'rise_end':rise_end,\n",
    "                'decay_start':decay_start,'decay_end':rise_start+self.heating_options['duration']}\n",
    "    \n",
    "    def event_energies(self,loop):\n",
    "        sample = self.power_law(*self.heating_options['power_law_bounds'],self.heating_options['power_law_slope'],\n",
    "                                np.random.rand(int(1e4)))\n",
    "        i_stop = np.where(sample.cumsum()>=self.strand_energy(loop))[0][0]\n",
    "        sample = sample[:i_stop]\n",
    "        sample = np.append(sample,self.strand_energy(loop) - sample.sum())\n",
    "        return np.random.permutation(sample)\n",
    "    \n",
    "    def strand_energy(self,loop):\n",
    "        return ((self.heating_options['stress_level']*loop.field_strength.value.mean())**2)/8./np.pi\n",
    "    \n",
    "    @staticmethod\n",
    "    def power_law(a0,a1,alpha,x):\n",
    "        return ((a1**(alpha + 1.) - a0**(alpha + 1.))*x + a0**(alpha + 1.))**(1./(alpha + 1.))"
   ]
  },
  {
   "cell_type": "code",
   "execution_count": 6,
   "metadata": {
    "collapsed": true
   },
   "outputs": [],
   "source": [
    "def cooling_time(loop,strand_energy,duration):\n",
    "    half_length = loop.full_length.value/2.\n",
    "    average_heating_rate_max = strand_energy/(duration/2.)#*u.erg/(u.cm**3)/u.s\n",
    "    # set some constants\n",
    "    alpha = -0.5\n",
    "    chi = 6e-20#*(u.erg*(u.cm**3)/u.s*u.K**(0.5))\n",
    "    kappa_0 = 1e-6#*(u.erg/u.cm/u.s*(u.K**(-7/2)))\n",
    "    c1,c2,c3 = 2.0,0.9,0.6\n",
    "    gamma = 5./3.\n",
    "    # estimate max n0T0\n",
    "    T0 = c2*(7.*half_length**2*average_heating_rate_max/2./kappa_0)**(2./7.)\n",
    "    top_term = average_heating_rate_max - 2.*kappa_0*(T0**(3.5))/(7.*(c2**2.5)*c3*(half_length**2)*gamma)\n",
    "    bottom_term = c1*chi*(T0**alpha)*(1. - c2/c3/gamma)\n",
    "    n0 = np.sqrt(top_term/bottom_term)\n",
    "    n0T0 = n0*T0\n",
    "    # Cargill cooling expression\n",
    "    term1 = (2. - alpha)/(1. - alpha)\n",
    "    term2 = (kappa_0**(4. - 2.*alpha))*(chi**7)\n",
    "    term3 = ((half_length)**(8. - 4.*alpha))/(n0T0**(3+2.*alpha))\n",
    "    return term1*3.*const.k_B.cgs.value*(1/term2*term3)**(1/(11. - 2.*alpha))"
   ]
  },
  {
   "cell_type": "markdown",
   "metadata": {},
   "source": [
    "## Sandbox"
   ]
  },
  {
   "cell_type": "code",
   "execution_count": 366,
   "metadata": {
    "collapsed": true
   },
   "outputs": [],
   "source": [
    "stress_level = 0.1\n",
    "freq_param = 0.1\n",
    "total_time = 3e4\n",
    "strand_cross_section = 1e14\n",
    "def max_event_energy(loop):\n",
    "    return ((stress_level*loop.field_strength.max().value)**2)/8/np.pi\n",
    "tau_cool = np.array([cooling_time(loop,max_event_energy(loop),200.) for loop in field.loops])\n",
    "number_of_events = np.floor(total_time/freq_param/tau_cool + 1)"
   ]
  },
  {
   "cell_type": "markdown",
   "metadata": {},
   "source": [
    "We could just find the area of the whole AR and then estimate the loop cross-section for a single value."
   ]
  },
  {
   "cell_type": "code",
   "execution_count": 344,
   "metadata": {
    "collapsed": true
   },
   "outputs": [],
   "source": [
    "ar_area = (field._convert_angle_to_length(field.hmi_map.dimensions.x*field.hmi_map.scale.x)\n",
    "           *field._convert_angle_to_length(field.hmi_map.dimensions.y*field.hmi_map.scale.y))"
   ]
  },
  {
   "cell_type": "code",
   "execution_count": 345,
   "metadata": {
    "collapsed": true
   },
   "outputs": [],
   "source": [
    "ar_total_max = (np.array([max_event_energy(loop)*loop.full_length.value*strand_cross_section for loop in field.loops])\n",
    "                *number_of_events).sum()/total_time/ar_area"
   ]
  },
  {
   "cell_type": "code",
   "execution_count": 346,
   "metadata": {
    "scrolled": true
   },
   "outputs": [
    {
     "name": "stdout",
     "output_type": "stream",
     "text": [
      "1.13682e+08 1 / cm2\n"
     ]
    }
   ],
   "source": [
    "print('{:g}'.format(ar_total_max))##/ar_area.value))"
   ]
  },
  {
   "cell_type": "markdown",
   "metadata": {},
   "source": [
    "Or we could estimate the loop cross section for each strand by looking at the concentration of strands across the AR."
   ]
  },
  {
   "cell_type": "code",
   "execution_count": 347,
   "metadata": {
    "collapsed": true
   },
   "outputs": [],
   "source": [
    "# Choose only one footpoint\n",
    "footpoints = []\n",
    "for loop in field.loops:\n",
    "    footpoints.append(loop.coordinates[0][:2].value)\n",
    "    #footpoints.append(loop.coordinates[-1][:2].value)"
   ]
  },
  {
   "cell_type": "code",
   "execution_count": 348,
   "metadata": {
    "collapsed": true
   },
   "outputs": [],
   "source": [
    "bin_range = (field._convert_angle_to_length(field.clipped_hmi_map.xrange).value,\n",
    "             field._convert_angle_to_length(field.clipped_hmi_map.yrange).value)\n",
    "bins = (field.clipped_hmi_map.dimensions.x.value,field.clipped_hmi_map.dimensions.y.value)"
   ]
  },
  {
   "cell_type": "code",
   "execution_count": 349,
   "metadata": {
    "collapsed": true
   },
   "outputs": [],
   "source": [
    "fp_dist,edges = np.histogramdd(np.array(footpoints),bins=bins,range=bin_range)"
   ]
  },
  {
   "cell_type": "code",
   "execution_count": 350,
   "metadata": {
    "collapsed": true
   },
   "outputs": [],
   "source": [
    "area_per_pixel = (field._convert_angle_to_length(field.clipped_hmi_map.scale.x*1*u.pixel)\n",
    "                  *field._convert_angle_to_length(field.clipped_hmi_map.scale.y*1*u.pixel)).value"
   ]
  },
  {
   "cell_type": "code",
   "execution_count": 351,
   "metadata": {
    "collapsed": true
   },
   "outputs": [],
   "source": [
    "cross_section_map = GenericMap(np.where(fp_dist==0,np.nan,area_per_pixel/fp_dist).T,\n",
    "                               field.clipped_hmi_map.meta.copy())"
   ]
  },
  {
   "cell_type": "code",
   "execution_count": 352,
   "metadata": {},
   "outputs": [
    {
     "data": {
      "text/plain": [
       "<matplotlib.colorbar.Colorbar at 0x7f717b097b70>"
      ]
     },
     "execution_count": 352,
     "metadata": {},
     "output_type": "execute_result"
    },
    {
     "data": {
      "image/png": "[encoded data removed]",
      "text/plain": [
       "<matplotlib.figure.Figure at 0x7f717b388a20>"
      ]
     },
     "metadata": {},
     "output_type": "display_data"
    }
   ],
   "source": [
    "fig = plt.figure(figsize=(20,15))\n",
    "ax1 = fig.add_subplot(121,projection=cross_section_map)\n",
    "im = cross_section_map.plot(axes=ax1,\n",
    "                            cmap=plt.get_cmap('magma'),\n",
    "                            title=False,\n",
    "                            norm=matplotlib.colors.SymLogNorm(0.1,vmin=1e13,vmax=5e16))\n",
    "ax2 = fig.add_subplot(122,projection=field.clipped_hmi_map)\n",
    "field.clipped_hmi_map.plot(axes=ax2)\n",
    "fig.colorbar(im,ax=ax1,orientation='horizontal')\n",
    "#plt.tight_layout()"
   ]
  },
  {
   "cell_type": "code",
   "execution_count": 367,
   "metadata": {
    "collapsed": true
   },
   "outputs": [],
   "source": [
    "ix = np.digitize(np.array(footpoints)[:,0],edges[0])-1\n",
    "iy = np.digitize(np.array(footpoints)[:,1],edges[1])-1"
   ]
  },
  {
   "cell_type": "code",
   "execution_count": 371,
   "metadata": {
    "collapsed": true
   },
   "outputs": [],
   "source": [
    "ar_total_max = (np.array([max_event_energy(loop)*loop.full_length.value \n",
    "                          for loop,cs in zip(field.loops, cross_section_map.data[iy,ix])])\n",
    "                *number_of_events).sum()/total_time"
   ]
  },
  {
   "cell_type": "code",
   "execution_count": 372,
   "metadata": {},
   "outputs": [
    {
     "name": "stdout",
     "output_type": "stream",
     "text": [
      "3.34772e+13\n"
     ]
    }
   ],
   "source": [
    "print('{:g}'.format(ar_total_max))##/ar_area.value))"
   ]
  },
  {
   "cell_type": "markdown",
   "metadata": {},
   "source": [
    "## Active Region Setup\n",
    "First, we need to take a look at the field and figure out the appropriate bounds on our power-law distribution based on the amount of estimated non-potential energy stored in the field."
   ]
  },
  {
   "cell_type": "markdown",
   "metadata": {},
   "source": [
    "Load the base field."
   ]
  },
  {
   "cell_type": "code",
   "execution_count": 5,
   "metadata": {},
   "outputs": [
    {
     "name": "stderr",
     "output_type": "stream",
     "text": [
      "No HMI fits file supplied. A new HMI map object will not be created.\n",
      "yt : [INFO     ] 2017-09-26 18:59:54,606 Parameters: current_time              = 0.0\n",
      "yt : [INFO     ] 2017-09-26 18:59:54,607 Parameters: domain_dimensions         = [95 96 96]\n",
      "yt : [INFO     ] 2017-09-26 18:59:54,608 Parameters: domain_left_edge          = [ -2.96081016e+10  -2.62091384e+10   3.91869796e+08]\n",
      "yt : [INFO     ] 2017-09-26 18:59:54,609 Parameters: domain_right_edge         = [ -1.18463315e+10  -7.41270210e+09   1.92016200e+10]\n",
      "yt : [INFO     ] 2017-09-26 18:59:54,610 Parameters: cosmological_simulation   = 0.0\n"
     ]
    }
   ],
   "source": [
    "field = synthesizAR.Skeleton.restore('../../../data/base_noaa1158/')"
   ]
  },
  {
   "cell_type": "code",
   "execution_count": null,
   "metadata": {
    "collapsed": true
   },
   "outputs": [],
   "source": [
    "for loop in field.loops[::100]:\n",
    "    plt.plot(loop.field_aligned_coordinate[:]/loop.field_aligned_coordinate.max(),\n",
    "             loop.field_strength[:],'r',alpha=0.1)\n",
    "plt.yscale('log')"
   ]
  },
  {
   "cell_type": "code",
   "execution_count": null,
   "metadata": {
    "collapsed": true
   },
   "outputs": [],
   "source": [
    "params = {'histtype':'step','lw':2,'bins':'fd','color':'b','alpha':0.01,'normed':False}\n",
    "for loop in field.loops[::1]:\n",
    "    upper_bound = (loop.field_strength.max().value*0.3)**2/8/np.pi\n",
    "    lower_bound = (loop.field_strength[1:].min().value*0.3)**2/8/np.pi\n",
    "    pl = NewPowerLawHeatingModel.power_law(lower_bound,upper_bound,-1.5,np.random.rand(int(1e4)))\n",
    "    plt.hist(pl/100.,**params)\n",
    "plt.xscale('log')\n",
    "plt.yscale('log')"
   ]
  },
  {
   "cell_type": "markdown",
   "metadata": {},
   "source": [
    "Setup heating options and model."
   ]
  },
  {
   "cell_type": "code",
   "execution_count": null,
   "metadata": {
    "collapsed": true
   },
   "outputs": [],
   "source": [
    "base_heating_options = {\n",
    "    'duration':200.0,\n",
    "    'duration_rise':100.0,\n",
    "    'duration_decay':100.0,\n",
    "    'stress_level':0.1,\n",
    "}"
   ]
  },
  {
   "cell_type": "markdown",
   "metadata": {},
   "source": [
    "The biggest question really is what should the bounds be on our power-law distribution? We want to sample the same distribution for each strand so we need a lower bound that doesn't give too many low energy events. The upper bound is not so important."
   ]
  },
  {
   "cell_type": "code",
   "execution_count": null,
   "metadata": {
    "collapsed": true
   },
   "outputs": [],
   "source": [
    "tmp = NewPowerLawHeatingModel(base_heating_options)"
   ]
  },
  {
   "cell_type": "code",
   "execution_count": null,
   "metadata": {
    "collapsed": true
   },
   "outputs": [],
   "source": [
    "strand_energies = np.array([tmp.strand_energy(loop) for loop in field.loops])"
   ]
  },
  {
   "cell_type": "code",
   "execution_count": null,
   "metadata": {
    "collapsed": true
   },
   "outputs": [],
   "source": [
    "plt.hist(strand_energies,bins=np.logspace(-2,2,50),histtype='step',lw=2);\n",
    "plt.axvline(x=strand_energies.mean(),c='k')\n",
    "plt.axvline(x=strand_energies.mean()+strand_energies.std(),c='k',ls='--')\n",
    "plt.axvline(x=strand_energies.mean()-strand_energies.std(),c='k',ls='--')\n",
    "plt.xscale('log')"
   ]
  },
  {
   "cell_type": "code",
   "execution_count": null,
   "metadata": {
    "collapsed": true
   },
   "outputs": [],
   "source": [
    "a0 = strand_energies.mean()-strand_energies.std()\n",
    "a1 = strand_energies.mean()+strand_energies.std()"
   ]
  },
  {
   "cell_type": "markdown",
   "metadata": {},
   "source": [
    "Now, set the bounds appropriately for the base heating model configuration."
   ]
  },
  {
   "cell_type": "code",
   "execution_count": null,
   "metadata": {
    "collapsed": true
   },
   "outputs": [],
   "source": [
    "base_heating_options['power_law_bounds'] = (a0,a1)"
   ]
  },
  {
   "cell_type": "markdown",
   "metadata": {},
   "source": [
    "Additionally, set up the base EBTEL configuration"
   ]
  },
  {
   "cell_type": "code",
   "execution_count": null,
   "metadata": {
    "collapsed": true
   },
   "outputs": [],
   "source": [
    "ih = synthesizAR.util.InputHandler('/storage-home/w/wtb2/codes/ebtelPlusPlus/config/ebtel.example.cfg.xml')\n",
    "base_config = ih.lookup_vars()\n",
    "base_config['c1_cond0'] = 6.0\n",
    "base_config['total_time'] = 3e4\n",
    "base_config['use_adaptive_solver'] = True\n",
    "base_config['use_flux_limiting'] = True\n",
    "base_config['calculate_dem'] = False\n",
    "base_config['heating']['partition'] = 1.0\n",
    "base_config['heating']['background'] = 1e-6\n",
    "base_config['force_single_fluid'] = False\n",
    "base_config['tau_max'] = 200.0"
   ]
  },
  {
   "cell_type": "markdown",
   "metadata": {},
   "source": [
    "### $\\alpha=-1.5$"
   ]
  },
  {
   "cell_type": "code",
   "execution_count": null,
   "metadata": {
    "collapsed": true
   },
   "outputs": [],
   "source": [
    "field_alpha15 = synthesizAR.Skeleton.restore('../../../data/base_noaa1158/')"
   ]
  },
  {
   "cell_type": "code",
   "execution_count": null,
   "metadata": {
    "collapsed": true
   },
   "outputs": [],
   "source": [
    "heating_options = base_heating_options.copy()\n",
    "heating_options['power_law_slope'] = -1.5\n",
    "heating_model = NewPowerLawHeatingModel(heating_options)\n",
    "ebtel_interface = EbtelInterface(base_config.copy(),heating_model,\n",
    "                                 '/storage-home/w/wtb2/data/noaa1158_powerlaw_alpha15/hydro_config/',\n",
    "                                 '/storage-home/w/wtb2/data/noaa1158_powerlaw_alpha15/hydro_results/')"
   ]
  },
  {
   "cell_type": "code",
   "execution_count": null,
   "metadata": {
    "collapsed": true
   },
   "outputs": [],
   "source": [
    "energy_distribution = heating_model.power_law(a0,a1,heating_options['power_law_slope'],np.random.rand(int(1e5)))\n",
    "plt.hist(energy_distribution,bins=np.logspace(np.log10(a0),np.log10(a1),100),log=True,histtype='step',lw=2);\n",
    "plt.xscale('log')\n",
    "plt.ylim([100,5e3])"
   ]
  },
  {
   "cell_type": "code",
   "execution_count": null,
   "metadata": {
    "collapsed": true
   },
   "outputs": [],
   "source": [
    "number_events = np.array([np.where(energy_distribution.cumsum()>=heating_model.strand_energy(loop))[0][0] \n",
    "                          for loop in field_alpha15.loops])\n",
    "plt.hist(number_events,bins='fd',log=True,histtype='step',lw=2);"
   ]
  },
  {
   "cell_type": "markdown",
   "metadata": {},
   "source": [
    "Configure the models and run them"
   ]
  },
  {
   "cell_type": "code",
   "execution_count": null,
   "metadata": {
    "collapsed": true
   },
   "outputs": [],
   "source": [
    "field_alpha15.configure_loop_simulations(ebtel_interface)"
   ]
  },
  {
   "cell_type": "code",
   "execution_count": null,
   "metadata": {
    "collapsed": true
   },
   "outputs": [],
   "source": [
    "def ebtel_runner(loop):\n",
    "    subprocess.call([os.path.join('/storage-home/w/wtb2/codes/','ebtelPlusPlus/bin/ebtel++.run'),\n",
    "                     '-c',loop.hydro_configuration['config_filename']])"
   ]
  },
  {
   "cell_type": "code",
   "execution_count": null,
   "metadata": {
    "collapsed": true
   },
   "outputs": [],
   "source": [
    "pool = multiprocessing.Pool()"
   ]
  },
  {
   "cell_type": "code",
   "execution_count": null,
   "metadata": {
    "collapsed": true
   },
   "outputs": [],
   "source": [
    "runs = pool.map_async(ebtel_runner,field_alpha15.loops)\n",
    "runs.wait()"
   ]
  },
  {
   "cell_type": "markdown",
   "metadata": {},
   "source": [
    "And load the results back into the field."
   ]
  },
  {
   "cell_type": "code",
   "execution_count": null,
   "metadata": {
    "collapsed": true
   },
   "outputs": [],
   "source": [
    "field_alpha15.load_loop_simulations(ebtel_interface,'/storage-home/w/wtb2/data/noaa1158_powerlaw_alpha15/loop_parameters.h5')"
   ]
  },
  {
   "cell_type": "markdown",
   "metadata": {},
   "source": [
    "Finally, peek at the hydrodynamic results."
   ]
  },
  {
   "cell_type": "code",
   "execution_count": null,
   "metadata": {
    "collapsed": true
   },
   "outputs": [],
   "source": [
    "fig,axes = plt.subplots(2,1,figsize=(20,10),sharex=True)\n",
    "plt.subplots_adjust(hspace=0.)\n",
    "for loop in np.array(field_alpha15.loops)[::500]:\n",
    "    axes[0].plot(loop.time,loop.electron_temperature[:,0].to(u.MK),color='b',alpha=0.5)\n",
    "    #axes[0].plot(loop.time,loop.ion_temperature[:,0].to(u.MK),color='r',alpha=0.5)\n",
    "    axes[1].plot(loop.time,loop.density[:,0]/1e9,color='b',alpha=0.5)\n",
    "axes[0].set_xlim([0,3e4])#base_config['total_time']])\n",
    "#axes[0].set_ylim([0,10])\n",
    "#axes[1].set_ylim([0,10])\n",
    "axes[0].set_ylabel(r'$T$ [MK]')\n",
    "axes[1].set_ylabel(r'$n$ [10$^9$ cm$^{-3}$]')\n",
    "axes[1].set_xlabel(r'$t$ [s]')"
   ]
  },
  {
   "cell_type": "markdown",
   "metadata": {},
   "source": [
    "And save the field."
   ]
  },
  {
   "cell_type": "code",
   "execution_count": null,
   "metadata": {
    "collapsed": true
   },
   "outputs": [],
   "source": [
    "field_alpha15.save('/storage-home/w/wtb2/data/noaa1158_powerlaw_alpha15/field_checkpoint')"
   ]
  },
  {
   "cell_type": "markdown",
   "metadata": {
    "collapsed": true
   },
   "source": [
    "Now restore the field."
   ]
  },
  {
   "cell_type": "code",
   "execution_count": null,
   "metadata": {
    "collapsed": true
   },
   "outputs": [],
   "source": [
    "field_alpha15 = synthesizAR.Skeleton.restore('/storage-home/w/wtb2/data/noaa1158_powerlaw_alpha15/field_checkpoint/')"
   ]
  },
  {
   "cell_type": "markdown",
   "metadata": {},
   "source": [
    "Next, peforme the flattening and binning to create the instrument data products. Setup instrument and observer."
   ]
  },
  {
   "cell_type": "code",
   "execution_count": null,
   "metadata": {
    "collapsed": true
   },
   "outputs": [],
   "source": [
    "aia = InstrumentSDOAIA([1e4,2e4]*u.s)"
   ]
  },
  {
   "cell_type": "code",
   "execution_count": null,
   "metadata": {
    "collapsed": true
   },
   "outputs": [],
   "source": [
    "observer = synthesizAR.Observer(field_alpha15,[aia])"
   ]
  },
  {
   "cell_type": "code",
   "execution_count": null,
   "metadata": {
    "collapsed": true
   },
   "outputs": [],
   "source": [
    "observer.build_detector_files('/storage-home/w/wtb2/data/noaa1158_powerlaw_alpha15/',\n",
    "                              ds=field_alpha15._convert_angle_to_length(1.2*u.arcsec))"
   ]
  },
  {
   "cell_type": "markdown",
   "metadata": {},
   "source": [
    "Construct DAGs for both the flattening and binning steps. These are then passed to the distributed scheduler so they can be run."
   ]
  },
  {
   "cell_type": "code",
   "execution_count": null,
   "metadata": {
    "collapsed": true
   },
   "outputs": [],
   "source": [
    "flatten_dag = observer.flatten_detector_counts()"
   ]
  },
  {
   "cell_type": "code",
   "execution_count": null,
   "metadata": {
    "collapsed": true
   },
   "outputs": [],
   "source": [
    "flatten_dag['SDO_AIA'].compute(resources={'MEMORY':'64GB'})"
   ]
  },
  {
   "cell_type": "code",
   "execution_count": null,
   "metadata": {
    "collapsed": true
   },
   "outputs": [],
   "source": [
    "bin_dag = observer.bin_detector_counts('/storage-home/w/wtb2/data/noaa1158_powerlaw_alpha15')"
   ]
  },
  {
   "cell_type": "code",
   "execution_count": null,
   "metadata": {
    "collapsed": true
   },
   "outputs": [],
   "source": [
    "jobs = client.compute(bin_dag['SDO_AIA'])"
   ]
  },
  {
   "cell_type": "markdown",
   "metadata": {
    "collapsed": true
   },
   "source": [
    "### $\\alpha=-2$"
   ]
  },
  {
   "cell_type": "markdown",
   "metadata": {},
   "source": [
    "### $\\alpha=-2.5$"
   ]
  },
  {
   "cell_type": "code",
   "execution_count": null,
   "metadata": {
    "collapsed": true
   },
   "outputs": [],
   "source": []
  }
 ],
 "metadata": {
  "kernelspec": {
   "display_name": "Python [conda env:synthesizar]",
   "language": "python",
   "name": "conda-env-synthesizar-py"
  },
  "language_info": {
   "codemirror_mode": {
    "name": "ipython",
    "version": 3
   },
   "file_extension": ".py",
   "mimetype": "text/x-python",
   "name": "python",
   "nbconvert_exporter": "python",
   "pygments_lexer": "ipython3",
   "version": "3.5.4"
  }
 },
 "nbformat": 4,
 "nbformat_minor": 2
}
